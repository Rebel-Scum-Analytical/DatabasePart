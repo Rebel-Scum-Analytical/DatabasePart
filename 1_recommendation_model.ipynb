{
 "cells": [
  {
   "cell_type": "code",
   "execution_count": 34,
   "metadata": {},
   "outputs": [],
   "source": [
    "import numpy as np\n",
    "from sklearn.feature_extraction.text import CountVectorizer\n",
    "from sklearn.preprocessing import Normalizer\n",
    "from sklearn.pipeline import make_pipeline\n",
    "from sklearn.metrics.pairwise import cosine_similarity\n",
    "import pandas as pd "
   ]
  },
  {
   "cell_type": "code",
   "execution_count": 35,
   "metadata": {},
   "outputs": [],
   "source": [
    "filepath = \"db/nutrition.csv\""
   ]
  },
  {
   "cell_type": "code",
   "execution_count": 36,
   "metadata": {},
   "outputs": [],
   "source": [
    "df = pd.read_csv(filepath)"
   ]
  },
  {
   "cell_type": "code",
   "execution_count": 37,
   "metadata": {},
   "outputs": [
    {
     "data": {
      "text/html": [
       "<div>\n",
       "<style scoped>\n",
       "    .dataframe tbody tr th:only-of-type {\n",
       "        vertical-align: middle;\n",
       "    }\n",
       "\n",
       "    .dataframe tbody tr th {\n",
       "        vertical-align: top;\n",
       "    }\n",
       "\n",
       "    .dataframe thead th {\n",
       "        text-align: right;\n",
       "    }\n",
       "</style>\n",
       "<table border=\"1\" class=\"dataframe\">\n",
       "  <thead>\n",
       "    <tr style=\"text-align: right;\">\n",
       "      <th></th>\n",
       "      <th>NDB_No</th>\n",
       "      <th>Shrt_Desc</th>\n",
       "      <th>Water</th>\n",
       "      <th>Energy</th>\n",
       "      <th>Protein</th>\n",
       "      <th>Lipid_Total</th>\n",
       "      <th>Carbohydrate</th>\n",
       "      <th>Fiber</th>\n",
       "      <th>Sugar_Total</th>\n",
       "      <th>Calcium</th>\n",
       "      <th>...</th>\n",
       "      <th>Vitamin_K</th>\n",
       "      <th>FA_Sat_g</th>\n",
       "      <th>FA_Mono_g</th>\n",
       "      <th>FA_Poly_g</th>\n",
       "      <th>Cholestrol</th>\n",
       "      <th>Weight_grams</th>\n",
       "      <th>Weight_desc</th>\n",
       "      <th>GmWt_2</th>\n",
       "      <th>GmWt_Desc2</th>\n",
       "      <th>Refuse_Pct</th>\n",
       "    </tr>\n",
       "  </thead>\n",
       "  <tbody>\n",
       "    <tr>\n",
       "      <th>0</th>\n",
       "      <td>1001</td>\n",
       "      <td>BUTTER,WITH SALT</td>\n",
       "      <td>15.87</td>\n",
       "      <td>717</td>\n",
       "      <td>0.85</td>\n",
       "      <td>81.11</td>\n",
       "      <td>0.06</td>\n",
       "      <td>0.0</td>\n",
       "      <td>0.06</td>\n",
       "      <td>24</td>\n",
       "      <td>...</td>\n",
       "      <td>7.0</td>\n",
       "      <td>51.368</td>\n",
       "      <td>21.021</td>\n",
       "      <td>3.043</td>\n",
       "      <td>215</td>\n",
       "      <td>5.00</td>\n",
       "      <td>1 pat,  (1\" sq, 1/3\" high)</td>\n",
       "      <td>14.2</td>\n",
       "      <td>1 tbsp</td>\n",
       "      <td>0</td>\n",
       "    </tr>\n",
       "    <tr>\n",
       "      <th>1</th>\n",
       "      <td>1002</td>\n",
       "      <td>BUTTER,WHIPPED,W/ SALT</td>\n",
       "      <td>16.72</td>\n",
       "      <td>718</td>\n",
       "      <td>0.49</td>\n",
       "      <td>78.30</td>\n",
       "      <td>2.87</td>\n",
       "      <td>0.0</td>\n",
       "      <td>0.06</td>\n",
       "      <td>23</td>\n",
       "      <td>...</td>\n",
       "      <td>4.6</td>\n",
       "      <td>45.390</td>\n",
       "      <td>19.874</td>\n",
       "      <td>3.331</td>\n",
       "      <td>225</td>\n",
       "      <td>3.80</td>\n",
       "      <td>1 pat,  (1\" sq, 1/3\" high)</td>\n",
       "      <td>9.4</td>\n",
       "      <td>1 tbsp</td>\n",
       "      <td>0</td>\n",
       "    </tr>\n",
       "    <tr>\n",
       "      <th>2</th>\n",
       "      <td>1003</td>\n",
       "      <td>BUTTER OIL,ANHYDROUS</td>\n",
       "      <td>0.24</td>\n",
       "      <td>876</td>\n",
       "      <td>0.28</td>\n",
       "      <td>99.48</td>\n",
       "      <td>0.00</td>\n",
       "      <td>0.0</td>\n",
       "      <td>0.00</td>\n",
       "      <td>4</td>\n",
       "      <td>...</td>\n",
       "      <td>8.6</td>\n",
       "      <td>61.924</td>\n",
       "      <td>28.732</td>\n",
       "      <td>3.694</td>\n",
       "      <td>256</td>\n",
       "      <td>12.80</td>\n",
       "      <td>1 tbsp</td>\n",
       "      <td>205.0</td>\n",
       "      <td>1 cup</td>\n",
       "      <td>0</td>\n",
       "    </tr>\n",
       "    <tr>\n",
       "      <th>3</th>\n",
       "      <td>1004</td>\n",
       "      <td>CHEESE,BLUE</td>\n",
       "      <td>42.41</td>\n",
       "      <td>353</td>\n",
       "      <td>21.40</td>\n",
       "      <td>28.74</td>\n",
       "      <td>2.34</td>\n",
       "      <td>0.0</td>\n",
       "      <td>0.50</td>\n",
       "      <td>528</td>\n",
       "      <td>...</td>\n",
       "      <td>2.4</td>\n",
       "      <td>18.669</td>\n",
       "      <td>7.778</td>\n",
       "      <td>0.800</td>\n",
       "      <td>75</td>\n",
       "      <td>28.35</td>\n",
       "      <td>1 oz</td>\n",
       "      <td>17.0</td>\n",
       "      <td>1 cubic inch</td>\n",
       "      <td>0</td>\n",
       "    </tr>\n",
       "    <tr>\n",
       "      <th>4</th>\n",
       "      <td>1005</td>\n",
       "      <td>CHEESE,BRICK</td>\n",
       "      <td>41.11</td>\n",
       "      <td>371</td>\n",
       "      <td>23.24</td>\n",
       "      <td>29.68</td>\n",
       "      <td>2.79</td>\n",
       "      <td>0.0</td>\n",
       "      <td>0.51</td>\n",
       "      <td>674</td>\n",
       "      <td>...</td>\n",
       "      <td>2.5</td>\n",
       "      <td>18.764</td>\n",
       "      <td>8.598</td>\n",
       "      <td>0.784</td>\n",
       "      <td>94</td>\n",
       "      <td>132.00</td>\n",
       "      <td>1 cup, diced</td>\n",
       "      <td>113.0</td>\n",
       "      <td>1 cup, shredded</td>\n",
       "      <td>0</td>\n",
       "    </tr>\n",
       "  </tbody>\n",
       "</table>\n",
       "<p>5 rows × 52 columns</p>\n",
       "</div>"
      ],
      "text/plain": [
       "   NDB_No               Shrt_Desc  Water  Energy  Protein  Lipid_Total  \\\n",
       "0    1001        BUTTER,WITH SALT  15.87     717     0.85        81.11   \n",
       "1    1002  BUTTER,WHIPPED,W/ SALT  16.72     718     0.49        78.30   \n",
       "2    1003    BUTTER OIL,ANHYDROUS   0.24     876     0.28        99.48   \n",
       "3    1004             CHEESE,BLUE  42.41     353    21.40        28.74   \n",
       "4    1005            CHEESE,BRICK  41.11     371    23.24        29.68   \n",
       "\n",
       "   Carbohydrate  Fiber  Sugar_Total  Calcium  ...  Vitamin_K  FA_Sat_g  \\\n",
       "0          0.06    0.0         0.06       24  ...        7.0    51.368   \n",
       "1          2.87    0.0         0.06       23  ...        4.6    45.390   \n",
       "2          0.00    0.0         0.00        4  ...        8.6    61.924   \n",
       "3          2.34    0.0         0.50      528  ...        2.4    18.669   \n",
       "4          2.79    0.0         0.51      674  ...        2.5    18.764   \n",
       "\n",
       "   FA_Mono_g  FA_Poly_g  Cholestrol  Weight_grams                 Weight_desc  \\\n",
       "0     21.021      3.043         215          5.00  1 pat,  (1\" sq, 1/3\" high)   \n",
       "1     19.874      3.331         225          3.80  1 pat,  (1\" sq, 1/3\" high)   \n",
       "2     28.732      3.694         256         12.80                      1 tbsp   \n",
       "3      7.778      0.800          75         28.35                        1 oz   \n",
       "4      8.598      0.784          94        132.00                1 cup, diced   \n",
       "\n",
       "   GmWt_2       GmWt_Desc2  Refuse_Pct  \n",
       "0    14.2           1 tbsp           0  \n",
       "1     9.4           1 tbsp           0  \n",
       "2   205.0            1 cup           0  \n",
       "3    17.0     1 cubic inch           0  \n",
       "4   113.0  1 cup, shredded           0  \n",
       "\n",
       "[5 rows x 52 columns]"
      ]
     },
     "execution_count": 37,
     "metadata": {},
     "output_type": "execute_result"
    }
   ],
   "source": [
    "df.head()"
   ]
  },
  {
   "cell_type": "code",
   "execution_count": null,
   "metadata": {},
   "outputs": [],
   "source": []
  },
  {
   "cell_type": "code",
   "execution_count": 38,
   "metadata": {},
   "outputs": [
    {
     "data": {
      "text/plain": [
       "array(['BUTTER,WITH SALT', 'BUTTER,WHIPPED,W/ SALT',\n",
       "       'BUTTER OIL,ANHYDROUS', ..., 'SYRUP,CANE', 'SNAIL,RAW',\n",
       "       'TURTLE,GREEN,RAW'], dtype=object)"
      ]
     },
     "execution_count": 38,
     "metadata": {},
     "output_type": "execute_result"
    }
   ],
   "source": [
    "X_text = df[\"Shrt_Desc\"].values\n",
    "X_text"
   ]
  },
  {
   "cell_type": "code",
   "execution_count": 39,
   "metadata": {},
   "outputs": [],
   "source": [
    "cv = make_pipeline(\n",
    "    CountVectorizer(\n",
    "            ngram_range=(3, 7),\n",
    "            analyzer=\"char\"\n",
    "        ),\n",
    "    Normalizer()\n",
    ")"
   ]
  },
  {
   "cell_type": "code",
   "execution_count": 40,
   "metadata": {},
   "outputs": [
    {
     "data": {
      "text/plain": [
       "Pipeline(memory=None,\n",
       "         steps=[('countvectorizer',\n",
       "                 CountVectorizer(analyzer='char', binary=False,\n",
       "                                 decode_error='strict',\n",
       "                                 dtype=<class 'numpy.int64'>, encoding='utf-8',\n",
       "                                 input='content', lowercase=True, max_df=1.0,\n",
       "                                 max_features=None, min_df=1,\n",
       "                                 ngram_range=(3, 7), preprocessor=None,\n",
       "                                 stop_words=None, strip_accents=None,\n",
       "                                 token_pattern='(?u)\\\\b\\\\w\\\\w+\\\\b',\n",
       "                                 tokenizer=None, vocabulary=None)),\n",
       "                ('normalizer', Normalizer(copy=True, norm='l2'))],\n",
       "         verbose=False)"
      ]
     },
     "execution_count": 40,
     "metadata": {},
     "output_type": "execute_result"
    }
   ],
   "source": [
    "cv.fit(X_text)"
   ]
  },
  {
   "cell_type": "code",
   "execution_count": 41,
   "metadata": {},
   "outputs": [],
   "source": [
    "X = cv.transform(X_text)"
   ]
  },
  {
   "cell_type": "code",
   "execution_count": 44,
   "metadata": {},
   "outputs": [],
   "source": [
    "X_term = cv.transform([\"choclte chip sookies\"])\n",
    "# text_matrix = X_norm.todense()"
   ]
  },
  {
   "cell_type": "code",
   "execution_count": 45,
   "metadata": {},
   "outputs": [],
   "source": [
    "simularities = cosine_similarity(X_term, X)"
   ]
  },
  {
   "cell_type": "code",
   "execution_count": 46,
   "metadata": {},
   "outputs": [
    {
     "data": {
      "text/plain": [
       "array([0.      , 0.016265, 0.      , ..., 0.      , 0.      , 0.      ])"
      ]
     },
     "execution_count": 46,
     "metadata": {},
     "output_type": "execute_result"
    }
   ],
   "source": [
    "simularities[0]"
   ]
  },
  {
   "cell_type": "code",
   "execution_count": 47,
   "metadata": {},
   "outputs": [],
   "source": [
    "k = 10\n",
    "result = np.sort(np.argpartition(simularities[0], len(simularities[0]) - k)[-k:])\n",
    "#np.sort(np.argpartition(arr, len(arr) - k)[-k:])"
   ]
  },
  {
   "cell_type": "code",
   "execution_count": 48,
   "metadata": {},
   "outputs": [],
   "source": [
    "#idxmax = np.argmax(simularities[0])"
   ]
  },
  {
   "cell_type": "code",
   "execution_count": 69,
   "metadata": {},
   "outputs": [
    {
     "data": {
      "text/html": [
       "<div>\n",
       "<style scoped>\n",
       "    .dataframe tbody tr th:only-of-type {\n",
       "        vertical-align: middle;\n",
       "    }\n",
       "\n",
       "    .dataframe tbody tr th {\n",
       "        vertical-align: top;\n",
       "    }\n",
       "\n",
       "    .dataframe thead th {\n",
       "        text-align: right;\n",
       "    }\n",
       "</style>\n",
       "<table border=\"1\" class=\"dataframe\">\n",
       "  <thead>\n",
       "    <tr style=\"text-align: right;\">\n",
       "      <th></th>\n",
       "      <th>NDB_No</th>\n",
       "      <th>Shrt_Desc</th>\n",
       "      <th>Weight_desc</th>\n",
       "      <th>Weight_grams</th>\n",
       "    </tr>\n",
       "  </thead>\n",
       "  <tbody>\n",
       "    <tr>\n",
       "      <th>5675</th>\n",
       "      <td>18161</td>\n",
       "      <td>COOKIES,CHOC CHIP,DRY MIX</td>\n",
       "      <td>1 oz</td>\n",
       "      <td>28.35</td>\n",
       "    </tr>\n",
       "    <tr>\n",
       "      <th>5937</th>\n",
       "      <td>18522</td>\n",
       "      <td>ARCHWAY Home Style Cookies, Chocolate Chip Ice...</td>\n",
       "      <td>1 serving</td>\n",
       "      <td>24.00</td>\n",
       "    </tr>\n",
       "    <tr>\n",
       "      <th>7835</th>\n",
       "      <td>28027</td>\n",
       "      <td>FAMOUS AMOS,CHOC CHIP COOKIES</td>\n",
       "      <td>4 cookies</td>\n",
       "      <td>29.00</td>\n",
       "    </tr>\n",
       "    <tr>\n",
       "      <th>7836</th>\n",
       "      <td>28028</td>\n",
       "      <td>FAMOUS AMOS,CHOC CHIP PECAN COOKIES</td>\n",
       "      <td>4 cookies</td>\n",
       "      <td>29.00</td>\n",
       "    </tr>\n",
       "    <tr>\n",
       "      <th>7863</th>\n",
       "      <td>28056</td>\n",
       "      <td>KEEBLER,CHIPS DELUXE,MINI CHOC CHIP COOKIES</td>\n",
       "      <td>1 pouch</td>\n",
       "      <td>34.00</td>\n",
       "    </tr>\n",
       "    <tr>\n",
       "      <th>7864</th>\n",
       "      <td>28057</td>\n",
       "      <td>KEEBLER,CHIPS DELUXE,OATMEAL CHOC CHIP COOKIES</td>\n",
       "      <td>2 cookies</td>\n",
       "      <td>31.00</td>\n",
       "    </tr>\n",
       "    <tr>\n",
       "      <th>7867</th>\n",
       "      <td>28060</td>\n",
       "      <td>KEEBLER,CHIPS DELUXE,RAINBOW CHOC CHIP COOKIES</td>\n",
       "      <td>2 cookies</td>\n",
       "      <td>31.00</td>\n",
       "    </tr>\n",
       "    <tr>\n",
       "      <th>7998</th>\n",
       "      <td>28195</td>\n",
       "      <td>MOTHER'S,CHOC CHIP COOKIES</td>\n",
       "      <td>4 cookies</td>\n",
       "      <td>30.00</td>\n",
       "    </tr>\n",
       "    <tr>\n",
       "      <th>8079</th>\n",
       "      <td>28277</td>\n",
       "      <td>MURRAY,SUGAR FREE,CHOC CHIP COOKIES</td>\n",
       "      <td>3 cookies</td>\n",
       "      <td>32.00</td>\n",
       "    </tr>\n",
       "    <tr>\n",
       "      <th>8130</th>\n",
       "      <td>28328</td>\n",
       "      <td>COOKIES,CHOC CHIP SNDWCH,W/ CREME FILLING</td>\n",
       "      <td>1 cookie</td>\n",
       "      <td>34.00</td>\n",
       "    </tr>\n",
       "  </tbody>\n",
       "</table>\n",
       "</div>"
      ],
      "text/plain": [
       "      NDB_No                                          Shrt_Desc Weight_desc  \\\n",
       "5675   18161                          COOKIES,CHOC CHIP,DRY MIX        1 oz   \n",
       "5937   18522  ARCHWAY Home Style Cookies, Chocolate Chip Ice...   1 serving   \n",
       "7835   28027                      FAMOUS AMOS,CHOC CHIP COOKIES   4 cookies   \n",
       "7836   28028                FAMOUS AMOS,CHOC CHIP PECAN COOKIES   4 cookies   \n",
       "7863   28056        KEEBLER,CHIPS DELUXE,MINI CHOC CHIP COOKIES     1 pouch   \n",
       "7864   28057     KEEBLER,CHIPS DELUXE,OATMEAL CHOC CHIP COOKIES   2 cookies   \n",
       "7867   28060     KEEBLER,CHIPS DELUXE,RAINBOW CHOC CHIP COOKIES   2 cookies   \n",
       "7998   28195                         MOTHER'S,CHOC CHIP COOKIES   4 cookies   \n",
       "8079   28277                MURRAY,SUGAR FREE,CHOC CHIP COOKIES   3 cookies   \n",
       "8130   28328          COOKIES,CHOC CHIP SNDWCH,W/ CREME FILLING    1 cookie   \n",
       "\n",
       "      Weight_grams  \n",
       "5675         28.35  \n",
       "5937         24.00  \n",
       "7835         29.00  \n",
       "7836         29.00  \n",
       "7863         34.00  \n",
       "7864         31.00  \n",
       "7867         31.00  \n",
       "7998         30.00  \n",
       "8079         32.00  \n",
       "8130         34.00  "
      ]
     },
     "execution_count": 69,
     "metadata": {},
     "output_type": "execute_result"
    }
   ],
   "source": [
    "df.loc[result][['NDB_No', 'Shrt_Desc', 'Weight_desc', 'Weight_grams']]\n",
    "# df.iloc?[0][\"S?hrt_Desc\"]"
   ]
  },
  {
   "cell_type": "code",
   "execution_count": 50,
   "metadata": {},
   "outputs": [],
   "source": [
    "# Display info of the first item matching the search string\n",
    "# def search(term):\n",
    "#     X_term = cv.transform([term])\n",
    "#     simularities = cosine_similarity(X_term, X)\n",
    "#     idxmax = np.argmax(simularities[0])\n",
    "#     return df.loc[idxmax]\n",
    "# if __name__ == \"__main__\":\n",
    "#     term = \"doritos\"\n",
    "#     print(search(term))"
   ]
  },
  {
   "cell_type": "code",
   "execution_count": null,
   "metadata": {},
   "outputs": [],
   "source": []
  },
  {
   "cell_type": "code",
   "execution_count": 53,
   "metadata": {},
   "outputs": [
    {
     "name": "stdout",
     "output_type": "stream",
     "text": [
      "      NDB_No            Shrt_Desc  Water  Energy  Protein  Lipid_Total  \\\n",
      "0       1001     BUTTER,WITH SALT  15.87     717     0.85        81.11   \n",
      "131     1145  BUTTER,WITHOUT SALT  17.94     717     0.85        81.11   \n",
      "676     4501     OIL,COCOA BUTTER   0.00     884     0.00       100.00   \n",
      "711     4572    OIL,NUTMEG BUTTER   0.00     884     0.00       100.00   \n",
      "712     4573   OIL,UCUHUBA BUTTER   0.00     884     0.00       100.00   \n",
      "2886   11108     BUTTERBUR,CANNED  97.92       3     0.11         0.13   \n",
      "3641   12084     BUTTERNUTS,DRIED   3.34     612    24.90        56.98   \n",
      "4488   15007       BUTTERFISH,RAW  74.13     146    17.28         8.02   \n",
      "5744   18239    CROISSANTS,BUTTER  23.20     406     8.20        21.00   \n",
      "6284   19294  FRUIT BUTTERS,APPLE  56.45     173     0.39         0.30   \n",
      "\n",
      "      Carbohydrate  Fiber  Sugar_Total  Calcium  ...  Vitamin_K  FA_Sat_g  \\\n",
      "0             0.06    0.0         0.06       24  ...        7.0    51.368   \n",
      "131           0.06    0.0         0.06       24  ...        7.0    50.489   \n",
      "676           0.00    0.0         0.00        0  ...       24.7    59.700   \n",
      "711           0.00    0.0         0.00        0  ...        0.0    90.000   \n",
      "712           0.00    0.0         0.00        0  ...        0.0    85.200   \n",
      "2886          0.38    0.0         0.00       34  ...        0.0     0.000   \n",
      "3641         12.05    4.7         0.00       53  ...        0.0     1.306   \n",
      "4488          0.00    0.0         0.00       22  ...        0.0     3.380   \n",
      "5744         45.80    2.6        11.26       37  ...        1.8    11.659   \n",
      "6284         42.47    1.5        35.30       14  ...        0.9     0.053   \n",
      "\n",
      "      FA_Mono_g  FA_Poly_g  Cholestrol  Weight_grams  \\\n",
      "0        21.021      3.043         215          5.00   \n",
      "131      23.430      3.010         215          5.00   \n",
      "676      32.900      3.000           0         13.60   \n",
      "711       4.800      0.000           0         13.60   \n",
      "712       6.700      2.900           0         13.60   \n",
      "2886      0.000      0.000           0        124.00   \n",
      "3641     10.425     42.741           0        120.00   \n",
      "4488      3.380      0.590          65         32.00   \n",
      "5744      5.525      1.094          67         28.35   \n",
      "6284      0.016      0.084           0         17.00   \n",
      "\n",
      "                     Weight_desc  GmWt_2          GmWt_Desc2  Refuse_Pct  \n",
      "0     1 pat,  (1\" sq, 1/3\" high)   14.20              1 tbsp           0  \n",
      "131   1 pat,  (1\" sq, 1/3\" high)   14.20              1 tbsp           0  \n",
      "676                 1 tablespoon  218.00               1 cup           0  \n",
      "711                       1 tbsp  218.00               1 cup           0  \n",
      "712                       1 tbsp  218.00               1 cup           0  \n",
      "2886              1 cup, chopped   45.00            3 stalks           0  \n",
      "3641                       1 cup   28.35                1 oz          73  \n",
      "4488                    1 fillet   85.00                3 oz           0  \n",
      "5744                        1 oz   28.00  1 croissant,  mini           0  \n",
      "6284                      1 tbsp   17.00           1 serving           0  \n",
      "\n",
      "[10 rows x 52 columns]\n"
     ]
    }
   ],
   "source": [
    "# Recommend 5 items similar to text in search string\n",
    "def advanced_search(term):\n",
    "    X_term = cv.transform([term])\n",
    "    simularities = cosine_similarity(X_term, X)\n",
    "    k = 10\n",
    "    result = np.sort(np.argpartition(simularities[0], len(simularities[0]) - k)[-k:])\n",
    "\n",
    "    #idxmax = np.arange(start=simularities[0], stop = simularities[5] , step=1)\n",
    "    return df.loc[result]\n",
    "if __name__ == \"__main__\":\n",
    "    term = \"butter\"\n",
    "    term1 = \"choclate cooies mnt\"\n",
    "    print(advanced_search(term))"
   ]
  },
  {
   "cell_type": "code",
   "execution_count": 35,
   "metadata": {},
   "outputs": [],
   "source": [
    "#X_term = cv.transform([\"butter\"])"
   ]
  },
  {
   "cell_type": "code",
   "execution_count": 36,
   "metadata": {},
   "outputs": [],
   "source": [
    "#simularities = cosine_similarity(X_term, X)"
   ]
  },
  {
   "cell_type": "code",
   "execution_count": 18,
   "metadata": {},
   "outputs": [],
   "source": [
    "#idxmax = np.argmax(simularities[0])"
   ]
  },
  {
   "cell_type": "code",
   "execution_count": 19,
   "metadata": {},
   "outputs": [],
   "source": [
    "#df.loc[idxmax]"
   ]
  }
 ],
 "metadata": {
  "kernelspec": {
   "display_name": "balanced_meal",
   "language": "python",
   "name": "balanced_meal"
  },
  "language_info": {
   "codemirror_mode": {
    "name": "ipython",
    "version": 3
   },
   "file_extension": ".py",
   "mimetype": "text/x-python",
   "name": "python",
   "nbconvert_exporter": "python",
   "pygments_lexer": "ipython3",
   "version": "3.7.6"
  }
 },
 "nbformat": 4,
 "nbformat_minor": 4
}
