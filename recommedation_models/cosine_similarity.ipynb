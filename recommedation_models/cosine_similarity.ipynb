{
 "cells": [
  {
   "cell_type": "code",
   "execution_count": 1,
   "metadata": {},
   "outputs": [],
   "source": [
    "# Dependencies\n",
    "import numpy as np\n",
    "from sklearn.feature_extraction.text import CountVectorizer\n",
    "from sklearn.preprocessing import Normalizer\n",
    "from sklearn.pipeline import make_pipeline\n",
    "from sklearn.metrics.pairwise import cosine_similarity\n",
    "import pandas as pd \n",
    "from sklearn.preprocessing import Normalizer\n",
    "from sklearn.preprocessing import normalize"
   ]
  },
  {
   "cell_type": "code",
   "execution_count": 2,
   "metadata": {},
   "outputs": [],
   "source": [
    "df = pd.read_csv(\"nutrition.csv\")\n",
    "# df = pd.read_csv(\"nutrition.csv\", index_col =\"NDB_No\")"
   ]
  },
  {
   "cell_type": "code",
   "execution_count": 3,
   "metadata": {},
   "outputs": [
    {
     "data": {
      "text/html": [
       "<div>\n",
       "<style scoped>\n",
       "    .dataframe tbody tr th:only-of-type {\n",
       "        vertical-align: middle;\n",
       "    }\n",
       "\n",
       "    .dataframe tbody tr th {\n",
       "        vertical-align: top;\n",
       "    }\n",
       "\n",
       "    .dataframe thead th {\n",
       "        text-align: right;\n",
       "    }\n",
       "</style>\n",
       "<table border=\"1\" class=\"dataframe\">\n",
       "  <thead>\n",
       "    <tr style=\"text-align: right;\">\n",
       "      <th></th>\n",
       "      <th>FdGrp_Cd</th>\n",
       "      <th>Long_Desc</th>\n",
       "      <th>NDB_No</th>\n",
       "      <th>Shrt_Desc</th>\n",
       "      <th>Water_g</th>\n",
       "      <th>Energ_Kcal</th>\n",
       "      <th>Protein_g</th>\n",
       "      <th>Lipid_Tot_g</th>\n",
       "      <th>Ash_g</th>\n",
       "      <th>Carbohydrt_g</th>\n",
       "      <th>...</th>\n",
       "      <th>Vit_K_mcg</th>\n",
       "      <th>FA_Sat_g</th>\n",
       "      <th>FA_Mono_g</th>\n",
       "      <th>FA_Poly_g</th>\n",
       "      <th>Cholestrl_g</th>\n",
       "      <th>GmWt_1</th>\n",
       "      <th>GmWt_Desc1</th>\n",
       "      <th>GmWt_2</th>\n",
       "      <th>GmWt_Desc2</th>\n",
       "      <th>Refuse_Pct</th>\n",
       "    </tr>\n",
       "  </thead>\n",
       "  <tbody>\n",
       "    <tr>\n",
       "      <th>0</th>\n",
       "      <td>100</td>\n",
       "      <td>Butter, salted</td>\n",
       "      <td>1001</td>\n",
       "      <td>BUTTER,WITH SALT</td>\n",
       "      <td>15.87</td>\n",
       "      <td>717</td>\n",
       "      <td>0.85</td>\n",
       "      <td>81.11</td>\n",
       "      <td>2.11</td>\n",
       "      <td>0.06</td>\n",
       "      <td>...</td>\n",
       "      <td>7.0</td>\n",
       "      <td>51.368</td>\n",
       "      <td>21.021</td>\n",
       "      <td>3.043</td>\n",
       "      <td>215</td>\n",
       "      <td>5.00</td>\n",
       "      <td>1 pat,  (1\" sq, 1/3\" high)</td>\n",
       "      <td>14.2</td>\n",
       "      <td>1 tbsp</td>\n",
       "      <td>0</td>\n",
       "    </tr>\n",
       "    <tr>\n",
       "      <th>1</th>\n",
       "      <td>100</td>\n",
       "      <td>Butter, whipped, with salt</td>\n",
       "      <td>1002</td>\n",
       "      <td>BUTTER,WHIPPED,W/ SALT</td>\n",
       "      <td>16.72</td>\n",
       "      <td>718</td>\n",
       "      <td>0.49</td>\n",
       "      <td>78.30</td>\n",
       "      <td>1.62</td>\n",
       "      <td>2.87</td>\n",
       "      <td>...</td>\n",
       "      <td>4.6</td>\n",
       "      <td>45.390</td>\n",
       "      <td>19.874</td>\n",
       "      <td>3.331</td>\n",
       "      <td>225</td>\n",
       "      <td>3.80</td>\n",
       "      <td>1 pat,  (1\" sq, 1/3\" high)</td>\n",
       "      <td>9.4</td>\n",
       "      <td>1 tbsp</td>\n",
       "      <td>0</td>\n",
       "    </tr>\n",
       "    <tr>\n",
       "      <th>2</th>\n",
       "      <td>100</td>\n",
       "      <td>Butter oil, anhydrous</td>\n",
       "      <td>1003</td>\n",
       "      <td>BUTTER OIL,ANHYDROUS</td>\n",
       "      <td>0.24</td>\n",
       "      <td>876</td>\n",
       "      <td>0.28</td>\n",
       "      <td>99.48</td>\n",
       "      <td>0.00</td>\n",
       "      <td>0.00</td>\n",
       "      <td>...</td>\n",
       "      <td>8.6</td>\n",
       "      <td>61.924</td>\n",
       "      <td>28.732</td>\n",
       "      <td>3.694</td>\n",
       "      <td>256</td>\n",
       "      <td>12.80</td>\n",
       "      <td>1 tbsp</td>\n",
       "      <td>205.0</td>\n",
       "      <td>1 cup</td>\n",
       "      <td>0</td>\n",
       "    </tr>\n",
       "    <tr>\n",
       "      <th>3</th>\n",
       "      <td>100</td>\n",
       "      <td>Cheese, blue</td>\n",
       "      <td>1004</td>\n",
       "      <td>CHEESE,BLUE</td>\n",
       "      <td>42.41</td>\n",
       "      <td>353</td>\n",
       "      <td>21.40</td>\n",
       "      <td>28.74</td>\n",
       "      <td>5.11</td>\n",
       "      <td>2.34</td>\n",
       "      <td>...</td>\n",
       "      <td>2.4</td>\n",
       "      <td>18.669</td>\n",
       "      <td>7.778</td>\n",
       "      <td>0.800</td>\n",
       "      <td>75</td>\n",
       "      <td>28.35</td>\n",
       "      <td>1 oz</td>\n",
       "      <td>17.0</td>\n",
       "      <td>1 cubic inch</td>\n",
       "      <td>0</td>\n",
       "    </tr>\n",
       "    <tr>\n",
       "      <th>4</th>\n",
       "      <td>100</td>\n",
       "      <td>Cheese, brick</td>\n",
       "      <td>1005</td>\n",
       "      <td>CHEESE,BRICK</td>\n",
       "      <td>41.11</td>\n",
       "      <td>371</td>\n",
       "      <td>23.24</td>\n",
       "      <td>29.68</td>\n",
       "      <td>3.18</td>\n",
       "      <td>2.79</td>\n",
       "      <td>...</td>\n",
       "      <td>2.5</td>\n",
       "      <td>18.764</td>\n",
       "      <td>8.598</td>\n",
       "      <td>0.784</td>\n",
       "      <td>94</td>\n",
       "      <td>132.00</td>\n",
       "      <td>1 cup, diced</td>\n",
       "      <td>113.0</td>\n",
       "      <td>1 cup, shredded</td>\n",
       "      <td>0</td>\n",
       "    </tr>\n",
       "  </tbody>\n",
       "</table>\n",
       "<p>5 rows × 55 columns</p>\n",
       "</div>"
      ],
      "text/plain": [
       "   FdGrp_Cd                   Long_Desc  NDB_No               Shrt_Desc  \\\n",
       "0       100              Butter, salted    1001        BUTTER,WITH SALT   \n",
       "1       100  Butter, whipped, with salt    1002  BUTTER,WHIPPED,W/ SALT   \n",
       "2       100       Butter oil, anhydrous    1003    BUTTER OIL,ANHYDROUS   \n",
       "3       100                Cheese, blue    1004             CHEESE,BLUE   \n",
       "4       100               Cheese, brick    1005            CHEESE,BRICK   \n",
       "\n",
       "   Water_g  Energ_Kcal  Protein_g  Lipid_Tot_g  Ash_g  Carbohydrt_g  ...  \\\n",
       "0    15.87         717       0.85        81.11   2.11          0.06  ...   \n",
       "1    16.72         718       0.49        78.30   1.62          2.87  ...   \n",
       "2     0.24         876       0.28        99.48   0.00          0.00  ...   \n",
       "3    42.41         353      21.40        28.74   5.11          2.34  ...   \n",
       "4    41.11         371      23.24        29.68   3.18          2.79  ...   \n",
       "\n",
       "   Vit_K_mcg  FA_Sat_g  FA_Mono_g  FA_Poly_g  Cholestrl_g  GmWt_1  \\\n",
       "0        7.0    51.368     21.021      3.043          215    5.00   \n",
       "1        4.6    45.390     19.874      3.331          225    3.80   \n",
       "2        8.6    61.924     28.732      3.694          256   12.80   \n",
       "3        2.4    18.669      7.778      0.800           75   28.35   \n",
       "4        2.5    18.764      8.598      0.784           94  132.00   \n",
       "\n",
       "                   GmWt_Desc1  GmWt_2       GmWt_Desc2  Refuse_Pct  \n",
       "0  1 pat,  (1\" sq, 1/3\" high)    14.2           1 tbsp           0  \n",
       "1  1 pat,  (1\" sq, 1/3\" high)     9.4           1 tbsp           0  \n",
       "2                      1 tbsp   205.0            1 cup           0  \n",
       "3                        1 oz    17.0     1 cubic inch           0  \n",
       "4                1 cup, diced   113.0  1 cup, shredded           0  \n",
       "\n",
       "[5 rows x 55 columns]"
      ]
     },
     "execution_count": 3,
     "metadata": {},
     "output_type": "execute_result"
    }
   ],
   "source": [
    "df.head()"
   ]
  },
  {
   "cell_type": "code",
   "execution_count": 4,
   "metadata": {},
   "outputs": [],
   "source": [
    "# df.loc[1001]\n",
    "# df.loc[1129]"
   ]
  },
  {
   "cell_type": "code",
   "execution_count": 5,
   "metadata": {},
   "outputs": [
    {
     "data": {
      "text/plain": [
       "Index(['FdGrp_Cd', 'Long_Desc', 'NDB_No', 'Shrt_Desc', 'Water_g', 'Energ_Kcal',\n",
       "       'Protein_g', 'Lipid_Tot_g', 'Ash_g', 'Carbohydrt_g', 'Fiber_TD_g',\n",
       "       'Sugar_Tot_g', 'Calcium_mg', 'Iron_mg', 'Magnesium_mg', 'Phosphorus_mg',\n",
       "       'Potassium_mg', 'Sodium_g', 'Zinc_mg', 'Copper_mg', 'Manganese_mg',\n",
       "       'Selenium_mcg', 'Vit_C_mg', 'Thiamin_mg', 'Riboflavin_mg', 'Niacin_mg',\n",
       "       'Panto_Acid_mg', 'Vit_B6_mg', 'Folate_Tot_mcg', 'Folic_Acid_mcg',\n",
       "       'Food_Folate_mcg', 'Folate_DFE_mcg', 'Choline_Tot_mg', 'Vit_B12_mcg',\n",
       "       'Vit_A_IU', 'Vit_A_RAE', 'Retinol_mcg', 'Alpha_Carot_mcg',\n",
       "       'Beta_Carot_mcg', 'Beta_Crypt_mcg', 'Lycopene_mcg', 'Lut+Zea_mcg',\n",
       "       'Vit_E_mg', 'Vit_D_mcg', 'Vit_D_IU', 'Vit_K_mcg', 'FA_Sat_g',\n",
       "       'FA_Mono_g', 'FA_Poly_g', 'Cholestrl_g', 'GmWt_1', 'GmWt_Desc1',\n",
       "       'GmWt_2', 'GmWt_Desc2', 'Refuse_Pct'],\n",
       "      dtype='object')"
      ]
     },
     "execution_count": 5,
     "metadata": {},
     "output_type": "execute_result"
    }
   ],
   "source": [
    "df.columns"
   ]
  },
  {
   "cell_type": "code",
   "execution_count": 6,
   "metadata": {},
   "outputs": [],
   "source": [
    "# food_data = data.set_index('Shrt_Desc').T.to_dict()\n",
    "#food_data.keys()\n",
    "#X = [v for k,v in df.items()]\n",
    "# food_data\n",
    "#food_data.keys()\n",
    "# item_list = [i for i in food_data.keys()]\n",
    "# item_list[0]"
   ]
  },
  {
   "cell_type": "markdown",
   "metadata": {},
   "source": [
    "# Change the columns to per calorie value"
   ]
  },
  {
   "cell_type": "code",
   "execution_count": 7,
   "metadata": {},
   "outputs": [],
   "source": [
    "df[\"Protein/cal\"] = df[\"Protein_g\"] / df[\"Energ_Kcal\"]\n",
    "df[\"Carbohydrtes/cal\"] = df[\"Carbohydrt_g\"] / df[\"Energ_Kcal\"]\n",
    "df[\"Sodium/cal\"] = df[\"Sodium_g\"]/ df[\"Energ_Kcal\"]\n",
    "df[\"Cholestrol/cal\"] = df[\"Cholestrl_g\"]/ df[\"Energ_Kcal\"]\n",
    "df[\"Sugar/cal\"] = df[\"Sugar_Tot_g\"]/ df[\"Energ_Kcal\"]\n",
    "# df[\"Fiber/cal\"] = df[\"Fiber_TD_g\"]/ df[\"Energ_Kcal\"]"
   ]
  },
  {
   "cell_type": "code",
   "execution_count": 8,
   "metadata": {},
   "outputs": [],
   "source": [
    "df_percalorie = df[[\"Shrt_Desc\", \"Protein/cal\", \"Protein_g\", \"Carbohydrtes/cal\", \"Sodium/cal\", \"Cholestrol/cal\", \"Sugar/cal\"]]"
   ]
  },
  {
   "cell_type": "code",
   "execution_count": 9,
   "metadata": {},
   "outputs": [],
   "source": [
    "#df_percalorie = df[[\"Shrt_Desc\", 'Protein_g', \"Protein/cal\"]]"
   ]
  },
  {
   "cell_type": "code",
   "execution_count": 10,
   "metadata": {},
   "outputs": [
    {
     "data": {
      "text/html": [
       "<div>\n",
       "<style scoped>\n",
       "    .dataframe tbody tr th:only-of-type {\n",
       "        vertical-align: middle;\n",
       "    }\n",
       "\n",
       "    .dataframe tbody tr th {\n",
       "        vertical-align: top;\n",
       "    }\n",
       "\n",
       "    .dataframe thead th {\n",
       "        text-align: right;\n",
       "    }\n",
       "</style>\n",
       "<table border=\"1\" class=\"dataframe\">\n",
       "  <thead>\n",
       "    <tr style=\"text-align: right;\">\n",
       "      <th></th>\n",
       "      <th>Shrt_Desc</th>\n",
       "      <th>Protein/cal</th>\n",
       "      <th>Protein_g</th>\n",
       "      <th>Carbohydrtes/cal</th>\n",
       "      <th>Sodium/cal</th>\n",
       "      <th>Cholestrol/cal</th>\n",
       "      <th>Sugar/cal</th>\n",
       "    </tr>\n",
       "  </thead>\n",
       "  <tbody>\n",
       "    <tr>\n",
       "      <th>0</th>\n",
       "      <td>BUTTER,WITH SALT</td>\n",
       "      <td>0.001185</td>\n",
       "      <td>0.85</td>\n",
       "      <td>0.000084</td>\n",
       "      <td>0.896792</td>\n",
       "      <td>0.299861</td>\n",
       "      <td>0.000084</td>\n",
       "    </tr>\n",
       "    <tr>\n",
       "      <th>1</th>\n",
       "      <td>BUTTER,WHIPPED,W/ SALT</td>\n",
       "      <td>0.000682</td>\n",
       "      <td>0.49</td>\n",
       "      <td>0.003997</td>\n",
       "      <td>0.811978</td>\n",
       "      <td>0.313370</td>\n",
       "      <td>0.000084</td>\n",
       "    </tr>\n",
       "    <tr>\n",
       "      <th>2</th>\n",
       "      <td>BUTTER OIL,ANHYDROUS</td>\n",
       "      <td>0.000320</td>\n",
       "      <td>0.28</td>\n",
       "      <td>0.000000</td>\n",
       "      <td>0.002283</td>\n",
       "      <td>0.292237</td>\n",
       "      <td>0.000000</td>\n",
       "    </tr>\n",
       "    <tr>\n",
       "      <th>3</th>\n",
       "      <td>CHEESE,BLUE</td>\n",
       "      <td>0.060623</td>\n",
       "      <td>21.40</td>\n",
       "      <td>0.006629</td>\n",
       "      <td>3.246459</td>\n",
       "      <td>0.212465</td>\n",
       "      <td>0.001416</td>\n",
       "    </tr>\n",
       "    <tr>\n",
       "      <th>4</th>\n",
       "      <td>CHEESE,BRICK</td>\n",
       "      <td>0.062642</td>\n",
       "      <td>23.24</td>\n",
       "      <td>0.007520</td>\n",
       "      <td>1.509434</td>\n",
       "      <td>0.253369</td>\n",
       "      <td>0.001375</td>\n",
       "    </tr>\n",
       "  </tbody>\n",
       "</table>\n",
       "</div>"
      ],
      "text/plain": [
       "                Shrt_Desc  Protein/cal  Protein_g  Carbohydrtes/cal  \\\n",
       "0        BUTTER,WITH SALT     0.001185       0.85          0.000084   \n",
       "1  BUTTER,WHIPPED,W/ SALT     0.000682       0.49          0.003997   \n",
       "2    BUTTER OIL,ANHYDROUS     0.000320       0.28          0.000000   \n",
       "3             CHEESE,BLUE     0.060623      21.40          0.006629   \n",
       "4            CHEESE,BRICK     0.062642      23.24          0.007520   \n",
       "\n",
       "   Sodium/cal  Cholestrol/cal  Sugar/cal  \n",
       "0    0.896792        0.299861   0.000084  \n",
       "1    0.811978        0.313370   0.000084  \n",
       "2    0.002283        0.292237   0.000000  \n",
       "3    3.246459        0.212465   0.001416  \n",
       "4    1.509434        0.253369   0.001375  "
      ]
     },
     "execution_count": 10,
     "metadata": {},
     "output_type": "execute_result"
    }
   ],
   "source": [
    "df_percalorie.head()"
   ]
  },
  {
   "cell_type": "markdown",
   "metadata": {},
   "source": [
    "## Removing null values from dataframe"
   ]
  },
  {
   "cell_type": "code",
   "execution_count": 11,
   "metadata": {},
   "outputs": [
    {
     "data": {
      "text/plain": [
       "Shrt_Desc            0\n",
       "Protein/cal         36\n",
       "Protein_g            0\n",
       "Carbohydrtes/cal    31\n",
       "Sodium/cal           9\n",
       "Cholestrol/cal      39\n",
       "Sugar/cal           38\n",
       "dtype: int64"
      ]
     },
     "execution_count": 11,
     "metadata": {},
     "output_type": "execute_result"
    }
   ],
   "source": [
    "df_percalorie.isnull().sum()"
   ]
  },
  {
   "cell_type": "code",
   "execution_count": 12,
   "metadata": {},
   "outputs": [],
   "source": [
    "df_percalorie = df_percalorie.dropna(how='any',axis=0)"
   ]
  },
  {
   "cell_type": "code",
   "execution_count": 13,
   "metadata": {},
   "outputs": [
    {
     "data": {
      "text/plain": [
       "Shrt_Desc           0\n",
       "Protein/cal         0\n",
       "Protein_g           0\n",
       "Carbohydrtes/cal    0\n",
       "Sodium/cal          0\n",
       "Cholestrol/cal      0\n",
       "Sugar/cal           0\n",
       "dtype: int64"
      ]
     },
     "execution_count": 13,
     "metadata": {},
     "output_type": "execute_result"
    }
   ],
   "source": [
    "df_percalorie.isnull().sum()"
   ]
  },
  {
   "cell_type": "code",
   "execution_count": 14,
   "metadata": {},
   "outputs": [
    {
     "data": {
      "text/plain": [
       "(8751, 7)"
      ]
     },
     "execution_count": 14,
     "metadata": {},
     "output_type": "execute_result"
    }
   ],
   "source": [
    "df_percalorie.shape"
   ]
  },
  {
   "cell_type": "markdown",
   "metadata": {},
   "source": [
    "## Cosine similarity"
   ]
  },
  {
   "cell_type": "code",
   "execution_count": 15,
   "metadata": {},
   "outputs": [],
   "source": [
    "# X = df_percalorie[['Protein/cal', 'Carbohydrtes/cal', 'Sodium/cal', 'Cholestrol/cal', 'Sugar/cal']]"
   ]
  },
  {
   "cell_type": "code",
   "execution_count": 16,
   "metadata": {},
   "outputs": [],
   "source": [
    "X = df_percalorie[['Protein/cal']].values"
   ]
  },
  {
   "cell_type": "code",
   "execution_count": 17,
   "metadata": {},
   "outputs": [],
   "source": [
    "X_norm = Normalizer().fit_transform(X)"
   ]
  },
  {
   "cell_type": "code",
   "execution_count": 18,
   "metadata": {},
   "outputs": [],
   "source": [
    "# eggs\n",
    "# df_percalorie.loc[1129]"
   ]
  },
  {
   "cell_type": "code",
   "execution_count": 19,
   "metadata": {},
   "outputs": [
    {
     "name": "stdout",
     "output_type": "stream",
     "text": [
      "5009\n"
     ]
    }
   ],
   "source": [
    "print(int(df_percalorie[df_percalorie['Shrt_Desc']=='SOY PROT ISOLATE,K TYPE'].index.values))"
   ]
  },
  {
   "cell_type": "code",
   "execution_count": 20,
   "metadata": {},
   "outputs": [
    {
     "data": {
      "text/plain": [
       "1.0"
      ]
     },
     "execution_count": 20,
     "metadata": {},
     "output_type": "execute_result"
    }
   ],
   "source": [
    "# X_norm[5009][0]"
   ]
  },
  {
   "cell_type": "code",
   "execution_count": 21,
   "metadata": {},
   "outputs": [
    {
     "data": {
      "text/html": [
       "<div>\n",
       "<style scoped>\n",
       "    .dataframe tbody tr th:only-of-type {\n",
       "        vertical-align: middle;\n",
       "    }\n",
       "\n",
       "    .dataframe tbody tr th {\n",
       "        vertical-align: top;\n",
       "    }\n",
       "\n",
       "    .dataframe thead th {\n",
       "        text-align: right;\n",
       "    }\n",
       "</style>\n",
       "<table border=\"1\" class=\"dataframe\">\n",
       "  <thead>\n",
       "    <tr style=\"text-align: right;\">\n",
       "      <th></th>\n",
       "      <th>Shrt_Desc</th>\n",
       "      <th>Protein/cal</th>\n",
       "      <th>Protein_g</th>\n",
       "      <th>Carbohydrtes/cal</th>\n",
       "      <th>Sodium/cal</th>\n",
       "      <th>Cholestrol/cal</th>\n",
       "      <th>Sugar/cal</th>\n",
       "    </tr>\n",
       "  </thead>\n",
       "  <tbody>\n",
       "    <tr>\n",
       "      <th>5009</th>\n",
       "      <td>SOY PROT ISOLATE,K TYPE</td>\n",
       "      <td>0.275140</td>\n",
       "      <td>88.32</td>\n",
       "      <td>0.008069</td>\n",
       "      <td>0.155763</td>\n",
       "      <td>0.000000</td>\n",
       "      <td>0.0</td>\n",
       "    </tr>\n",
       "    <tr>\n",
       "      <th>4858</th>\n",
       "      <td>SOY PROTEIN ISOLATE</td>\n",
       "      <td>0.263642</td>\n",
       "      <td>88.32</td>\n",
       "      <td>0.000000</td>\n",
       "      <td>3.000000</td>\n",
       "      <td>0.000000</td>\n",
       "      <td>0.0</td>\n",
       "    </tr>\n",
       "    <tr>\n",
       "      <th>6204</th>\n",
       "      <td>GELATINS,DRY PDR,UNSWTND</td>\n",
       "      <td>0.255522</td>\n",
       "      <td>85.60</td>\n",
       "      <td>0.000000</td>\n",
       "      <td>0.585075</td>\n",
       "      <td>0.000000</td>\n",
       "      <td>0.0</td>\n",
       "    </tr>\n",
       "    <tr>\n",
       "      <th>4473</th>\n",
       "      <td>BEVERAGES,ENERGY DRK,VAULT ZERO,SUGAR-FREE,CIT...</td>\n",
       "      <td>0.250000</td>\n",
       "      <td>0.25</td>\n",
       "      <td>0.700000</td>\n",
       "      <td>14.000000</td>\n",
       "      <td>0.000000</td>\n",
       "      <td>0.0</td>\n",
       "    </tr>\n",
       "    <tr>\n",
       "      <th>4734</th>\n",
       "      <td>FISH,POLLOCK,ALASKA,RAW (NOT PREVIOUSLY FROZEN)</td>\n",
       "      <td>0.245286</td>\n",
       "      <td>17.17</td>\n",
       "      <td>0.000000</td>\n",
       "      <td>2.271429</td>\n",
       "      <td>0.871429</td>\n",
       "      <td>0.0</td>\n",
       "    </tr>\n",
       "    <tr>\n",
       "      <th>4736</th>\n",
       "      <td>FISH,COD,PACIFIC,RAW (NOT PREVIOUSLY FROZEN)</td>\n",
       "      <td>0.243611</td>\n",
       "      <td>17.54</td>\n",
       "      <td>0.000000</td>\n",
       "      <td>1.513889</td>\n",
       "      <td>0.638889</td>\n",
       "      <td>0.0</td>\n",
       "    </tr>\n",
       "    <tr>\n",
       "      <th>4737</th>\n",
       "      <td>FISH,COD,PACIFIC,CKD (NOT PREVIOUSLY FROZEN)</td>\n",
       "      <td>0.243095</td>\n",
       "      <td>20.42</td>\n",
       "      <td>0.000000</td>\n",
       "      <td>1.595238</td>\n",
       "      <td>0.726190</td>\n",
       "      <td>0.0</td>\n",
       "    </tr>\n",
       "    <tr>\n",
       "      <th>4735</th>\n",
       "      <td>FISH,POLLOCK,ALASKA,CKD (NOT PREVIOUSLY FROZEN)</td>\n",
       "      <td>0.242750</td>\n",
       "      <td>19.42</td>\n",
       "      <td>0.000000</td>\n",
       "      <td>2.075000</td>\n",
       "      <td>0.925000</td>\n",
       "      <td>0.0</td>\n",
       "    </tr>\n",
       "    <tr>\n",
       "      <th>8328</th>\n",
       "      <td>SEAL,BEARDED (OOGRUK),MEAT,RAW (ALASKA NATIVE)</td>\n",
       "      <td>0.242727</td>\n",
       "      <td>26.70</td>\n",
       "      <td>0.000000</td>\n",
       "      <td>0.000000</td>\n",
       "      <td>0.909091</td>\n",
       "      <td>0.0</td>\n",
       "    </tr>\n",
       "    <tr>\n",
       "      <th>4739</th>\n",
       "      <td>CRUSTACEANS,SHRIMP,CKD (NOT PREVIOUSLY FROZEN)</td>\n",
       "      <td>0.242222</td>\n",
       "      <td>23.98</td>\n",
       "      <td>0.002020</td>\n",
       "      <td>1.121212</td>\n",
       "      <td>1.909091</td>\n",
       "      <td>0.0</td>\n",
       "    </tr>\n",
       "  </tbody>\n",
       "</table>\n",
       "</div>"
      ],
      "text/plain": [
       "                                              Shrt_Desc  Protein/cal  \\\n",
       "5009                            SOY PROT ISOLATE,K TYPE     0.275140   \n",
       "4858                                SOY PROTEIN ISOLATE     0.263642   \n",
       "6204                           GELATINS,DRY PDR,UNSWTND     0.255522   \n",
       "4473  BEVERAGES,ENERGY DRK,VAULT ZERO,SUGAR-FREE,CIT...     0.250000   \n",
       "4734    FISH,POLLOCK,ALASKA,RAW (NOT PREVIOUSLY FROZEN)     0.245286   \n",
       "4736       FISH,COD,PACIFIC,RAW (NOT PREVIOUSLY FROZEN)     0.243611   \n",
       "4737       FISH,COD,PACIFIC,CKD (NOT PREVIOUSLY FROZEN)     0.243095   \n",
       "4735    FISH,POLLOCK,ALASKA,CKD (NOT PREVIOUSLY FROZEN)     0.242750   \n",
       "8328     SEAL,BEARDED (OOGRUK),MEAT,RAW (ALASKA NATIVE)     0.242727   \n",
       "4739     CRUSTACEANS,SHRIMP,CKD (NOT PREVIOUSLY FROZEN)     0.242222   \n",
       "\n",
       "      Protein_g  Carbohydrtes/cal  Sodium/cal  Cholestrol/cal  Sugar/cal  \n",
       "5009      88.32          0.008069    0.155763        0.000000        0.0  \n",
       "4858      88.32          0.000000    3.000000        0.000000        0.0  \n",
       "6204      85.60          0.000000    0.585075        0.000000        0.0  \n",
       "4473       0.25          0.700000   14.000000        0.000000        0.0  \n",
       "4734      17.17          0.000000    2.271429        0.871429        0.0  \n",
       "4736      17.54          0.000000    1.513889        0.638889        0.0  \n",
       "4737      20.42          0.000000    1.595238        0.726190        0.0  \n",
       "4735      19.42          0.000000    2.075000        0.925000        0.0  \n",
       "8328      26.70          0.000000    0.000000        0.909091        0.0  \n",
       "4739      23.98          0.002020    1.121212        1.909091        0.0  "
      ]
     },
     "execution_count": 21,
     "metadata": {},
     "output_type": "execute_result"
    }
   ],
   "source": [
    "# food with max protein values\n",
    "df_sort = df_percalorie.sort_values(\"Protein/cal\", ascending = False)\n",
    "df_sort.head(10)"
   ]
  },
  {
   "cell_type": "code",
   "execution_count": 22,
   "metadata": {},
   "outputs": [],
   "source": [
    "# df_percalorie.loc[16422]"
   ]
  },
  {
   "cell_type": "code",
   "execution_count": 22,
   "metadata": {},
   "outputs": [],
   "source": [
    "# df_percalorie\n",
    "# NDB_No"
   ]
  },
  {
   "cell_type": "markdown",
   "metadata": {},
   "source": [
    "## Display list of 10 similar items"
   ]
  },
  {
   "cell_type": "code",
   "execution_count": 23,
   "metadata": {},
   "outputs": [],
   "source": [
    "# df_percalorie"
   ]
  },
  {
   "cell_type": "code",
   "execution_count": 23,
   "metadata": {},
   "outputs": [
    {
     "name": "stdout",
     "output_type": "stream",
     "text": [
      "5009\n"
     ]
    }
   ],
   "source": [
    "# X_norm[16422][0]\n",
    "# dfb = int(df_percalorie[df_percalorie['NDB_No']==16422].index[0])\n",
    "# dfb\n",
    "# dfbb = int(df[df['A']==8].index[0])\n",
    "print(int(df_percalorie[df_percalorie['Shrt_Desc']=='SOY PROT ISOLATE,K TYPE'].index.values))"
   ]
  },
  {
   "cell_type": "code",
   "execution_count": null,
   "metadata": {},
   "outputs": [],
   "source": []
  },
  {
   "cell_type": "code",
   "execution_count": 25,
   "metadata": {},
   "outputs": [],
   "source": [
    "# df.index[df['BoolCol']].tolist()"
   ]
  },
  {
   "cell_type": "code",
   "execution_count": 31,
   "metadata": {},
   "outputs": [
    {
     "data": {
      "text/html": [
       "<div>\n",
       "<style scoped>\n",
       "    .dataframe tbody tr th:only-of-type {\n",
       "        vertical-align: middle;\n",
       "    }\n",
       "\n",
       "    .dataframe tbody tr th {\n",
       "        vertical-align: top;\n",
       "    }\n",
       "\n",
       "    .dataframe thead th {\n",
       "        text-align: right;\n",
       "    }\n",
       "</style>\n",
       "<table border=\"1\" class=\"dataframe\">\n",
       "  <thead>\n",
       "    <tr style=\"text-align: right;\">\n",
       "      <th></th>\n",
       "      <th>Shrt_Desc</th>\n",
       "      <th>Protein/cal</th>\n",
       "      <th>Protein_g</th>\n",
       "      <th>Carbohydrtes/cal</th>\n",
       "      <th>Sodium/cal</th>\n",
       "      <th>Cholestrol/cal</th>\n",
       "      <th>Sugar/cal</th>\n",
       "    </tr>\n",
       "  </thead>\n",
       "  <tbody>\n",
       "    <tr>\n",
       "      <th>5009</th>\n",
       "      <td>SOY PROT ISOLATE,K TYPE</td>\n",
       "      <td>0.275140</td>\n",
       "      <td>88.32</td>\n",
       "      <td>0.008069</td>\n",
       "      <td>0.155763</td>\n",
       "      <td>0.000000</td>\n",
       "      <td>0.0</td>\n",
       "    </tr>\n",
       "    <tr>\n",
       "      <th>4858</th>\n",
       "      <td>SOY PROTEIN ISOLATE</td>\n",
       "      <td>0.263642</td>\n",
       "      <td>88.32</td>\n",
       "      <td>0.000000</td>\n",
       "      <td>3.000000</td>\n",
       "      <td>0.000000</td>\n",
       "      <td>0.0</td>\n",
       "    </tr>\n",
       "    <tr>\n",
       "      <th>6204</th>\n",
       "      <td>GELATINS,DRY PDR,UNSWTND</td>\n",
       "      <td>0.255522</td>\n",
       "      <td>85.60</td>\n",
       "      <td>0.000000</td>\n",
       "      <td>0.585075</td>\n",
       "      <td>0.000000</td>\n",
       "      <td>0.0</td>\n",
       "    </tr>\n",
       "    <tr>\n",
       "      <th>4473</th>\n",
       "      <td>BEVERAGES,ENERGY DRK,VAULT ZERO,SUGAR-FREE,CIT...</td>\n",
       "      <td>0.250000</td>\n",
       "      <td>0.25</td>\n",
       "      <td>0.700000</td>\n",
       "      <td>14.000000</td>\n",
       "      <td>0.000000</td>\n",
       "      <td>0.0</td>\n",
       "    </tr>\n",
       "    <tr>\n",
       "      <th>4734</th>\n",
       "      <td>FISH,POLLOCK,ALASKA,RAW (NOT PREVIOUSLY FROZEN)</td>\n",
       "      <td>0.245286</td>\n",
       "      <td>17.17</td>\n",
       "      <td>0.000000</td>\n",
       "      <td>2.271429</td>\n",
       "      <td>0.871429</td>\n",
       "      <td>0.0</td>\n",
       "    </tr>\n",
       "    <tr>\n",
       "      <th>4736</th>\n",
       "      <td>FISH,COD,PACIFIC,RAW (NOT PREVIOUSLY FROZEN)</td>\n",
       "      <td>0.243611</td>\n",
       "      <td>17.54</td>\n",
       "      <td>0.000000</td>\n",
       "      <td>1.513889</td>\n",
       "      <td>0.638889</td>\n",
       "      <td>0.0</td>\n",
       "    </tr>\n",
       "    <tr>\n",
       "      <th>4737</th>\n",
       "      <td>FISH,COD,PACIFIC,CKD (NOT PREVIOUSLY FROZEN)</td>\n",
       "      <td>0.243095</td>\n",
       "      <td>20.42</td>\n",
       "      <td>0.000000</td>\n",
       "      <td>1.595238</td>\n",
       "      <td>0.726190</td>\n",
       "      <td>0.0</td>\n",
       "    </tr>\n",
       "    <tr>\n",
       "      <th>4735</th>\n",
       "      <td>FISH,POLLOCK,ALASKA,CKD (NOT PREVIOUSLY FROZEN)</td>\n",
       "      <td>0.242750</td>\n",
       "      <td>19.42</td>\n",
       "      <td>0.000000</td>\n",
       "      <td>2.075000</td>\n",
       "      <td>0.925000</td>\n",
       "      <td>0.0</td>\n",
       "    </tr>\n",
       "    <tr>\n",
       "      <th>8328</th>\n",
       "      <td>SEAL,BEARDED (OOGRUK),MEAT,RAW (ALASKA NATIVE)</td>\n",
       "      <td>0.242727</td>\n",
       "      <td>26.70</td>\n",
       "      <td>0.000000</td>\n",
       "      <td>0.000000</td>\n",
       "      <td>0.909091</td>\n",
       "      <td>0.0</td>\n",
       "    </tr>\n",
       "    <tr>\n",
       "      <th>4739</th>\n",
       "      <td>CRUSTACEANS,SHRIMP,CKD (NOT PREVIOUSLY FROZEN)</td>\n",
       "      <td>0.242222</td>\n",
       "      <td>23.98</td>\n",
       "      <td>0.002020</td>\n",
       "      <td>1.121212</td>\n",
       "      <td>1.909091</td>\n",
       "      <td>0.0</td>\n",
       "    </tr>\n",
       "  </tbody>\n",
       "</table>\n",
       "</div>"
      ],
      "text/plain": [
       "                                              Shrt_Desc  Protein/cal  \\\n",
       "5009                            SOY PROT ISOLATE,K TYPE     0.275140   \n",
       "4858                                SOY PROTEIN ISOLATE     0.263642   \n",
       "6204                           GELATINS,DRY PDR,UNSWTND     0.255522   \n",
       "4473  BEVERAGES,ENERGY DRK,VAULT ZERO,SUGAR-FREE,CIT...     0.250000   \n",
       "4734    FISH,POLLOCK,ALASKA,RAW (NOT PREVIOUSLY FROZEN)     0.245286   \n",
       "4736       FISH,COD,PACIFIC,RAW (NOT PREVIOUSLY FROZEN)     0.243611   \n",
       "4737       FISH,COD,PACIFIC,CKD (NOT PREVIOUSLY FROZEN)     0.243095   \n",
       "4735    FISH,POLLOCK,ALASKA,CKD (NOT PREVIOUSLY FROZEN)     0.242750   \n",
       "8328     SEAL,BEARDED (OOGRUK),MEAT,RAW (ALASKA NATIVE)     0.242727   \n",
       "4739     CRUSTACEANS,SHRIMP,CKD (NOT PREVIOUSLY FROZEN)     0.242222   \n",
       "\n",
       "      Protein_g  Carbohydrtes/cal  Sodium/cal  Cholestrol/cal  Sugar/cal  \n",
       "5009      88.32          0.008069    0.155763        0.000000        0.0  \n",
       "4858      88.32          0.000000    3.000000        0.000000        0.0  \n",
       "6204      85.60          0.000000    0.585075        0.000000        0.0  \n",
       "4473       0.25          0.700000   14.000000        0.000000        0.0  \n",
       "4734      17.17          0.000000    2.271429        0.871429        0.0  \n",
       "4736      17.54          0.000000    1.513889        0.638889        0.0  \n",
       "4737      20.42          0.000000    1.595238        0.726190        0.0  \n",
       "4735      19.42          0.000000    2.075000        0.925000        0.0  \n",
       "8328      26.70          0.000000    0.000000        0.909091        0.0  \n",
       "4739      23.98          0.002020    1.121212        1.909091        0.0  "
      ]
     },
     "execution_count": 31,
     "metadata": {},
     "output_type": "execute_result"
    }
   ],
   "source": [
    "df_sort.head(10)"
   ]
  },
  {
   "cell_type": "code",
   "execution_count": 28,
   "metadata": {},
   "outputs": [
    {
     "data": {
      "text/html": [
       "<div>\n",
       "<style scoped>\n",
       "    .dataframe tbody tr th:only-of-type {\n",
       "        vertical-align: middle;\n",
       "    }\n",
       "\n",
       "    .dataframe tbody tr th {\n",
       "        vertical-align: top;\n",
       "    }\n",
       "\n",
       "    .dataframe thead th {\n",
       "        text-align: right;\n",
       "    }\n",
       "</style>\n",
       "<table border=\"1\" class=\"dataframe\">\n",
       "  <thead>\n",
       "    <tr style=\"text-align: right;\">\n",
       "      <th></th>\n",
       "      <th>Shrt_Desc</th>\n",
       "      <th>Protein/cal</th>\n",
       "      <th>Protein_g</th>\n",
       "      <th>Carbohydrtes/cal</th>\n",
       "      <th>Sodium/cal</th>\n",
       "      <th>Cholestrol/cal</th>\n",
       "      <th>Sugar/cal</th>\n",
       "    </tr>\n",
       "  </thead>\n",
       "  <tbody>\n",
       "    <tr>\n",
       "      <th>2963</th>\n",
       "      <td>EDAMAME,FRZ,UNPREP</td>\n",
       "      <td>0.102936</td>\n",
       "      <td>11.22</td>\n",
       "      <td>0.069817</td>\n",
       "      <td>0.055046</td>\n",
       "      <td>0.000000</td>\n",
       "      <td>0.022752</td>\n",
       "    </tr>\n",
       "    <tr>\n",
       "      <th>2968</th>\n",
       "      <td>GINGER ROOT,RAW</td>\n",
       "      <td>0.022750</td>\n",
       "      <td>1.82</td>\n",
       "      <td>0.222125</td>\n",
       "      <td>0.162500</td>\n",
       "      <td>0.000000</td>\n",
       "      <td>0.021250</td>\n",
       "    </tr>\n",
       "    <tr>\n",
       "      <th>2970</th>\n",
       "      <td>GOURD,WHITE-FLOWERED (CALABASH),CKD,BLD,DRND,W...</td>\n",
       "      <td>0.040000</td>\n",
       "      <td>0.60</td>\n",
       "      <td>0.246000</td>\n",
       "      <td>0.133333</td>\n",
       "      <td>0.000000</td>\n",
       "      <td>0.000000</td>\n",
       "    </tr>\n",
       "    <tr>\n",
       "      <th>2971</th>\n",
       "      <td>GOURD,DISHCLOTH (TOWELGOURD),RAW</td>\n",
       "      <td>0.060000</td>\n",
       "      <td>1.20</td>\n",
       "      <td>0.217500</td>\n",
       "      <td>0.150000</td>\n",
       "      <td>0.000000</td>\n",
       "      <td>0.101000</td>\n",
       "    </tr>\n",
       "    <tr>\n",
       "      <th>2972</th>\n",
       "      <td>GOURD,DISHCLOTH (TOWELGOURD),CKD,BLD,DRND,WO/SALT</td>\n",
       "      <td>0.011786</td>\n",
       "      <td>0.66</td>\n",
       "      <td>0.256071</td>\n",
       "      <td>0.375000</td>\n",
       "      <td>0.000000</td>\n",
       "      <td>0.092321</td>\n",
       "    </tr>\n",
       "    <tr>\n",
       "      <th>2973</th>\n",
       "      <td>DRUMSTICK LEAVES,RAW</td>\n",
       "      <td>0.146875</td>\n",
       "      <td>9.40</td>\n",
       "      <td>0.129375</td>\n",
       "      <td>0.140625</td>\n",
       "      <td>0.000000</td>\n",
       "      <td>0.000000</td>\n",
       "    </tr>\n",
       "    <tr>\n",
       "      <th>2974</th>\n",
       "      <td>DRUMSTICK LEAVES,CKD,BLD,DRND,WO/ SALT</td>\n",
       "      <td>0.087833</td>\n",
       "      <td>5.27</td>\n",
       "      <td>0.185833</td>\n",
       "      <td>0.150000</td>\n",
       "      <td>0.000000</td>\n",
       "      <td>0.016667</td>\n",
       "    </tr>\n",
       "    <tr>\n",
       "      <th>2975</th>\n",
       "      <td>HYACINTH-BEANS,IMMAT SEEDS,RAW</td>\n",
       "      <td>0.045652</td>\n",
       "      <td>2.10</td>\n",
       "      <td>0.199783</td>\n",
       "      <td>0.043478</td>\n",
       "      <td>0.000000</td>\n",
       "      <td>0.088696</td>\n",
       "    </tr>\n",
       "    <tr>\n",
       "      <th>2976</th>\n",
       "      <td>HYACINTH-BEANS,IMMAT SEEDS,CKD,BLD,DRND,WO/SALT</td>\n",
       "      <td>0.059000</td>\n",
       "      <td>2.95</td>\n",
       "      <td>0.184000</td>\n",
       "      <td>0.040000</td>\n",
       "      <td>0.000000</td>\n",
       "      <td>0.000000</td>\n",
       "    </tr>\n",
       "    <tr>\n",
       "      <th>8789</th>\n",
       "      <td>TURTLE,GREEN,RAW</td>\n",
       "      <td>0.222472</td>\n",
       "      <td>19.80</td>\n",
       "      <td>0.000000</td>\n",
       "      <td>0.764045</td>\n",
       "      <td>0.561798</td>\n",
       "      <td>0.000000</td>\n",
       "    </tr>\n",
       "  </tbody>\n",
       "</table>\n",
       "</div>"
      ],
      "text/plain": [
       "                                              Shrt_Desc  Protein/cal  \\\n",
       "2963                                 EDAMAME,FRZ,UNPREP     0.102936   \n",
       "2968                                    GINGER ROOT,RAW     0.022750   \n",
       "2970  GOURD,WHITE-FLOWERED (CALABASH),CKD,BLD,DRND,W...     0.040000   \n",
       "2971                   GOURD,DISHCLOTH (TOWELGOURD),RAW     0.060000   \n",
       "2972  GOURD,DISHCLOTH (TOWELGOURD),CKD,BLD,DRND,WO/SALT     0.011786   \n",
       "2973                               DRUMSTICK LEAVES,RAW     0.146875   \n",
       "2974             DRUMSTICK LEAVES,CKD,BLD,DRND,WO/ SALT     0.087833   \n",
       "2975                     HYACINTH-BEANS,IMMAT SEEDS,RAW     0.045652   \n",
       "2976    HYACINTH-BEANS,IMMAT SEEDS,CKD,BLD,DRND,WO/SALT     0.059000   \n",
       "8789                                   TURTLE,GREEN,RAW     0.222472   \n",
       "\n",
       "      Protein_g  Carbohydrtes/cal  Sodium/cal  Cholestrol/cal  Sugar/cal  \n",
       "2963      11.22          0.069817    0.055046        0.000000   0.022752  \n",
       "2968       1.82          0.222125    0.162500        0.000000   0.021250  \n",
       "2970       0.60          0.246000    0.133333        0.000000   0.000000  \n",
       "2971       1.20          0.217500    0.150000        0.000000   0.101000  \n",
       "2972       0.66          0.256071    0.375000        0.000000   0.092321  \n",
       "2973       9.40          0.129375    0.140625        0.000000   0.000000  \n",
       "2974       5.27          0.185833    0.150000        0.000000   0.016667  \n",
       "2975       2.10          0.199783    0.043478        0.000000   0.088696  \n",
       "2976       2.95          0.184000    0.040000        0.000000   0.000000  \n",
       "8789      19.80          0.000000    0.764045        0.561798   0.000000  "
      ]
     },
     "execution_count": 28,
     "metadata": {},
     "output_type": "execute_result"
    }
   ],
   "source": [
    "similarities = cosine_similarity(X_norm[5009].reshape(1,-1), X_norm)\n",
    "k = 10\n",
    "result = np.sort(np.argpartition(similarities[0], len(similarities[0]) - k)[-k:])\n",
    "\n",
    "#idxmax = np.arange(start=simularities[0], stop = simularities[5] , step=1)\n",
    "df_percalorie.iloc[result]"
   ]
  },
  {
   "cell_type": "code",
   "execution_count": 32,
   "metadata": {},
   "outputs": [
    {
     "data": {
      "text/plain": [
       "array([2960, 2965, 2967, 2968, 2969, 2970, 2971, 2972, 2973, 8750],\n",
       "      dtype=int32)"
      ]
     },
     "execution_count": 32,
     "metadata": {},
     "output_type": "execute_result"
    }
   ],
   "source": [
    "np.sort(np.argpartition(similarities[0], len(similarities[0]) - k)[-k:])"
   ]
  },
  {
   "cell_type": "code",
   "execution_count": 33,
   "metadata": {},
   "outputs": [
    {
     "data": {
      "text/plain": [
       "array([2960, 2965, 2967, 2968, 2969, 2970, 2971, 2972, 2973, 8750],\n",
       "      dtype=int32)"
      ]
     },
     "execution_count": 33,
     "metadata": {},
     "output_type": "execute_result"
    }
   ],
   "source": [
    "result"
   ]
  },
  {
   "cell_type": "code",
   "execution_count": 34,
   "metadata": {},
   "outputs": [
    {
     "data": {
      "text/plain": [
       "array([1., 1., 1., ..., 0., 1., 1.])"
      ]
     },
     "execution_count": 34,
     "metadata": {},
     "output_type": "execute_result"
    }
   ],
   "source": [
    "similarities[0]"
   ]
  },
  {
   "cell_type": "code",
   "execution_count": 35,
   "metadata": {},
   "outputs": [],
   "source": [
    "# df = pd.DataFrame({\n",
    "#     \"eggs\": [1, 2, 3, 5],\n",
    "#     \"bacon\": [12, 123, 3, 5],\n",
    "#     \"spam\": [12, 23, 4, 5]\n",
    "# })\n",
    "# # index 0 eggs, 1 bacon, 2 spam\n",
    "# X_norm = Normalize().fit_transform(X)\n",
    "# cosine_simularity(X_norm[0], X_norm[~0])\n",
    "# X_norm[~0].dot(X_norm[0].T)\n",
    "# X_sim = X_norm.dot(X_norm.T)\n",
    "# [\n",
    "#     [.123, 1, 1],\n",
    "#     [.240, 1, *],\n",
    "#     [1, *, *]\n",
    "# ]\n",
    "# sim_eggs = X_sim[0]\n",
    "# # search for the index that is closest but not the egg index"
   ]
  },
  {
   "cell_type": "code",
   "execution_count": null,
   "metadata": {},
   "outputs": [],
   "source": []
  }
 ],
 "metadata": {
  "kernelspec": {
   "display_name": "ml_hw",
   "language": "python",
   "name": "ml_hw"
  },
  "language_info": {
   "codemirror_mode": {
    "name": "ipython",
    "version": 3
   },
   "file_extension": ".py",
   "mimetype": "text/x-python",
   "name": "python",
   "nbconvert_exporter": "python",
   "pygments_lexer": "ipython3",
   "version": "3.7.6"
  }
 },
 "nbformat": 4,
 "nbformat_minor": 4
}
